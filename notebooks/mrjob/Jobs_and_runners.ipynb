{
 "cells": [
  {
   "cell_type": "code",
   "execution_count": null,
   "metadata": {
    "collapsed": false
   },
   "outputs": [],
   "source": [
    "import os\n",
    "import sys\n",
    "\n",
    "# Get enviroment variables set from utils/setup.sh\n",
    "home_dir = os.environ['HOME']\n",
    "root_dir = os.environ['BD_GitRoot']\n",
    "\n",
    "# Add utils to the python system path\n",
    "sys.path.append(root_dir + '/utils')\n",
    "\n",
    "# Read AWS credentials from 'EC2_VAULT'/Creds.pkl \n",
    "from read_mrjob_creds import *\n",
    "(key_id, secret_key, s3_bucket, username) = read_credentials()\n",
    "\n",
    "examples_dir = root_dir + '/notebooks/mrjob/'\n",
    "\n",
    "!ls -l $examples_dir"
   ]
  },
  {
   "cell_type": "code",
   "execution_count": null,
   "metadata": {
    "collapsed": false
   },
   "outputs": [],
   "source": [
    "#This notebook should be run AFTER the notebook \"Simple use of mrjob\"\n",
    "%load $examples_dir/mr_word_freq_count.py"
   ]
  },
  {
   "cell_type": "markdown",
   "metadata": {},
   "source": [
    "## A demonstration of counters"
   ]
  },
  {
   "cell_type": "markdown",
   "metadata": {},
   "source": [
    "Counters are used to track the number of jobs of each type that have been executed."
   ]
  },
  {
   "cell_type": "code",
   "execution_count": null,
   "metadata": {
    "collapsed": false
   },
   "outputs": [],
   "source": [
    "%%writefile mr_word_freq_counters.py\n",
    "#!/usr/bin/python\n",
    "# Copyright 2009-2010 Yelp\n",
    "#\n",
    "# Licensed under the Apache License, Version 2.0 (the \"License\");\n",
    "# you may not use this file except in compliance with the License.\n",
    "# You may obtain a copy of the License at\n",
    "#\n",
    "# http://www.apache.org/licenses/LICENSE-2.0\n",
    "#\n",
    "# Unless required by applicable law or agreed to in writing, software\n",
    "# distributed under the License is distributed on an \"AS IS\" BASIS,\n",
    "# WITHOUT WARRANTIES OR CONDITIONS OF ANY KIND, either express or implied.\n",
    "# See the License for the specific language governing permissions and\n",
    "# limitations under the License.\n",
    "\"\"\"The classic MapReduce job: count the frequency of words.\n",
    "\"\"\"\n",
    "from mrjob.job import MRJob\n",
    "import re\n",
    "from sys import stderr\n",
    "\n",
    "WORD_RE = re.compile(r\"[\\w']+\")\n",
    "\n",
    "#logfile=open('log','w')\n",
    "logfile=stderr\n",
    "\n",
    "class MRWordFreqCount(MRJob):\n",
    "\n",
    "    def mapper(self, _, line):\n",
    "        self.increment_counter('MrJob Counters','mapper',1)\n",
    "        for word in WORD_RE.findall(line):\n",
    "            #logfile.write('mapper '+word.lower()+'\\n')\n",
    "            yield (word.lower(), 1)\n",
    "\n",
    "    def combiner(self, word, counts):\n",
    "        self.increment_counter('MrJob Counters','combiner',1)\n",
    "        yield (word, sum(counts))\n",
    "        #l_counts=[c for c in counts]  # extract list from iterator\n",
    "        #S=sum(l_counts)\n",
    "        #logfile.write('combiner '+word+' ['+','.join([str(c) for c in l_counts])+']='+str(S)+'\\n')\n",
    "        #yield (word, S)\n",
    "\n",
    "    def reducer(self, word, counts):\n",
    "        self.increment_counter('MrJob Counters','reducer',1)\n",
    "        yield (word, sum(counts))\n",
    "        #l_counts=[c for c in counts]  # extract list from iterator\n",
    "        #S=sum(l_counts)\n",
    "        #logfile.write('reducer '+word+' ['+','.join([str(c) for c in l_counts])+']='+str(S)+'\\n')\n",
    "        #yield (word, S)\n",
    "\n",
    "if __name__ == '__main__':\n",
    "    MRWordFreqCount.run()"
   ]
  },
  {
   "cell_type": "code",
   "execution_count": null,
   "metadata": {
    "collapsed": false
   },
   "outputs": [],
   "source": [
    "!python mr_word_freq_counters.py --runner=local $root_dir/README.md > counts"
   ]
  },
  {
   "cell_type": "markdown",
   "metadata": {},
   "source": [
    "## Runners and job flows"
   ]
  },
  {
   "cell_type": "markdown",
   "metadata": {},
   "source": [
    "Runners run your job on a resource: **inline**,**local**,**Hadoop** or **EMR**\n",
    "\n",
    "By default, mrjob, when running with the option **-r emr**, will create a Cluster on EMR for the job, run the job, and then\n",
    "dismantle the cluster.\n",
    "\n",
    "As setting up a cluster can take a long time (hours), it is usually better to keep the hadoop cluster running and send to it additional jobs. From this perspective, an EMR cluster is called a **job flow**."
   ]
  },
  {
   "cell_type": "code",
   "execution_count": null,
   "metadata": {
    "collapsed": false
   },
   "outputs": [],
   "source": [
    "from mrjob.emr import EMRJobRunner"
   ]
  },
  {
   "cell_type": "code",
   "execution_count": null,
   "metadata": {
    "collapsed": false
   },
   "outputs": [],
   "source": [
    "JobRunner = EMRJobRunner(aws_access_key_id=key_id, aws_secret_access_key=secret_key)"
   ]
  },
  {
   "cell_type": "code",
   "execution_count": null,
   "metadata": {
    "collapsed": false
   },
   "outputs": [],
   "source": [
    "emr_conn = JobRunner.make_emr_conn()"
   ]
  },
  {
   "cell_type": "code",
   "execution_count": null,
   "metadata": {
    "collapsed": false
   },
   "outputs": [],
   "source": [
    "job_flows=emr_conn.describe_jobflows()"
   ]
  },
  {
   "cell_type": "code",
   "execution_count": null,
   "metadata": {
    "collapsed": false
   },
   "outputs": [],
   "source": [
    "type(job_flows[0])"
   ]
  },
  {
   "cell_type": "code",
   "execution_count": null,
   "metadata": {
    "collapsed": false
   },
   "outputs": [],
   "source": [
    "for flow in job_flows:\n",
    "    print flow,flow.name,flow.jobflowid,flow.state"
   ]
  },
  {
   "cell_type": "code",
   "execution_count": null,
   "metadata": {
    "collapsed": false
   },
   "outputs": [],
   "source": [
    "flow.jobflowid"
   ]
  }
 ],
 "metadata": {
  "kernelspec": {
   "display_name": "Python 2",
   "language": "python",
   "name": "python2"
  },
  "language_info": {
   "codemirror_mode": {
    "name": "ipython",
    "version": 2
   },
   "file_extension": ".py",
   "mimetype": "text/x-python",
   "name": "python",
   "nbconvert_exporter": "python",
   "pygments_lexer": "ipython2",
   "version": "2.7.9"
  }
 },
 "nbformat": 4,
 "nbformat_minor": 0
}
